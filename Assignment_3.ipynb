{
  "nbformat": 4,
  "nbformat_minor": 0,
  "metadata": {
    "colab": {
      "provenance": []
    },
    "kernelspec": {
      "name": "python3",
      "display_name": "Python 3"
    },
    "language_info": {
      "name": "python"
    }
  },
  "cells": [
    {
      "cell_type": "code",
      "execution_count": null,
      "metadata": {
        "id": "qJ4k5J-eqeYl"
      },
      "outputs": [],
      "source": [
        ""
      ]
    },
    {
      "cell_type": "markdown",
      "source": [
        "1. Create a NumPy array of integers from 1 to 10."
      ],
      "metadata": {
        "id": "OkPvHPgMqlYM"
      }
    },
    {
      "cell_type": "code",
      "source": [
        "import numpy as np\n"
      ],
      "metadata": {
        "id": "4Iedn3cKqmXc"
      },
      "execution_count": 19,
      "outputs": []
    },
    {
      "cell_type": "code",
      "source": [
        "np.arange(1,11)"
      ],
      "metadata": {
        "colab": {
          "base_uri": "https://localhost:8080/"
        },
        "id": "lfvmCZkPqqDt",
        "outputId": "c366aa0f-2c79-40c9-ea4b-dc23e26a7c2c"
      },
      "execution_count": null,
      "outputs": [
        {
          "output_type": "execute_result",
          "data": {
            "text/plain": [
              "array([ 1,  2,  3,  4,  5,  6,  7,  8,  9, 10])"
            ]
          },
          "metadata": {},
          "execution_count": 2
        }
      ]
    },
    {
      "cell_type": "markdown",
      "source": [],
      "metadata": {
        "id": "nUtH4ojpq6UC"
      }
    },
    {
      "cell_type": "markdown",
      "source": [
        "2. Create a 2x3 NumPy array filled with zeros."
      ],
      "metadata": {
        "id": "pJbHL0lVq8VB"
      }
    },
    {
      "cell_type": "code",
      "source": [
        "np.zeros((2,3))"
      ],
      "metadata": {
        "colab": {
          "base_uri": "https://localhost:8080/"
        },
        "id": "MeFkMdybq9MB",
        "outputId": "8421e55e-a136-4b45-dc05-0b15d1703723"
      },
      "execution_count": null,
      "outputs": [
        {
          "output_type": "execute_result",
          "data": {
            "text/plain": [
              "array([[0., 0., 0.],\n",
              "       [0., 0., 0.]])"
            ]
          },
          "metadata": {},
          "execution_count": 5
        }
      ]
    },
    {
      "cell_type": "markdown",
      "source": [
        "3. Create a NumPy array of even numbers from 2 to 20"
      ],
      "metadata": {
        "id": "TGG6HURorpDe"
      }
    },
    {
      "cell_type": "code",
      "source": [
        "np.arange(2,21,2)"
      ],
      "metadata": {
        "colab": {
          "base_uri": "https://localhost:8080/"
        },
        "id": "5W8euJc-rp92",
        "outputId": "2b0b2015-c2d3-4188-ea65-38478e47b593"
      },
      "execution_count": null,
      "outputs": [
        {
          "output_type": "execute_result",
          "data": {
            "text/plain": [
              "array([ 2,  4,  6,  8, 10, 12, 14, 16, 18, 20])"
            ]
          },
          "metadata": {},
          "execution_count": 6
        }
      ]
    },
    {
      "cell_type": "code",
      "source": [],
      "metadata": {
        "id": "H4q_4LnDsL51"
      },
      "execution_count": null,
      "outputs": []
    },
    {
      "cell_type": "markdown",
      "source": [
        "4. Given two NumPy arrays, arr1 = np.array([1, 2, 3]) and arr2 = np.array([4,\n",
        "5, 6]), perform element-wise addition, subtraction, multiplication, and\n",
        "division between the two arrays.\n"
      ],
      "metadata": {
        "id": "7MJHpJBtsQqF"
      }
    },
    {
      "cell_type": "code",
      "source": [
        "arr1=np.array([1,2,3])\n",
        "arr1"
      ],
      "metadata": {
        "colab": {
          "base_uri": "https://localhost:8080/"
        },
        "id": "5RszdPnesSG9",
        "outputId": "2ccfd070-df50-4492-bc6b-785f08e542ef"
      },
      "execution_count": null,
      "outputs": [
        {
          "output_type": "execute_result",
          "data": {
            "text/plain": [
              "array([1, 2, 3])"
            ]
          },
          "metadata": {},
          "execution_count": 10
        }
      ]
    },
    {
      "cell_type": "code",
      "source": [
        "arr2=np.array([4,5,6])\n",
        "arr2"
      ],
      "metadata": {
        "colab": {
          "base_uri": "https://localhost:8080/"
        },
        "id": "y_a96lq8sn11",
        "outputId": "8a32c85d-b2f8-4c0c-d1d2-d4f0dcba1f2f"
      },
      "execution_count": null,
      "outputs": [
        {
          "output_type": "execute_result",
          "data": {
            "text/plain": [
              "array([4, 5, 6])"
            ]
          },
          "metadata": {},
          "execution_count": 12
        }
      ]
    },
    {
      "cell_type": "code",
      "source": [
        "arr3=arr1+arr2\n",
        "arr3"
      ],
      "metadata": {
        "colab": {
          "base_uri": "https://localhost:8080/"
        },
        "id": "kPScjOqnsyml",
        "outputId": "a26b7f73-2c94-4138-d1e2-d644915675af"
      },
      "execution_count": null,
      "outputs": [
        {
          "output_type": "execute_result",
          "data": {
            "text/plain": [
              "array([5, 7, 9])"
            ]
          },
          "metadata": {},
          "execution_count": 13
        }
      ]
    },
    {
      "cell_type": "code",
      "source": [
        "arr3=arr1-arr2\n",
        "arr3"
      ],
      "metadata": {
        "colab": {
          "base_uri": "https://localhost:8080/"
        },
        "id": "Ag2IchULtEFU",
        "outputId": "195487f7-e65b-4834-9b05-ae9fdcb98729"
      },
      "execution_count": null,
      "outputs": [
        {
          "output_type": "execute_result",
          "data": {
            "text/plain": [
              "array([-3, -3, -3])"
            ]
          },
          "metadata": {},
          "execution_count": 14
        }
      ]
    },
    {
      "cell_type": "code",
      "source": [
        "arr3=arr1*arr2\n",
        "arr3"
      ],
      "metadata": {
        "colab": {
          "base_uri": "https://localhost:8080/"
        },
        "id": "El7AbVZrtOtk",
        "outputId": "d054423d-6c24-467f-d4fc-257ae6365e94"
      },
      "execution_count": null,
      "outputs": [
        {
          "output_type": "execute_result",
          "data": {
            "text/plain": [
              "array([ 4, 10, 18])"
            ]
          },
          "metadata": {},
          "execution_count": 15
        }
      ]
    },
    {
      "cell_type": "code",
      "source": [
        "arr3=arr1/arr2\n",
        "arr3"
      ],
      "metadata": {
        "colab": {
          "base_uri": "https://localhost:8080/"
        },
        "id": "X4KNF1hBtTdk",
        "outputId": "ae7d2443-895b-487c-b7d0-152005a334bc"
      },
      "execution_count": null,
      "outputs": [
        {
          "output_type": "execute_result",
          "data": {
            "text/plain": [
              "array([0.25, 0.4 , 0.5 ])"
            ]
          },
          "metadata": {},
          "execution_count": 17
        }
      ]
    },
    {
      "cell_type": "code",
      "source": [],
      "metadata": {
        "id": "3q924A2atVl0"
      },
      "execution_count": null,
      "outputs": []
    },
    {
      "cell_type": "markdown",
      "source": [
        "5. Compute the mean, median, and standard deviation of a NumPy array\n",
        "containing 100 random numbers."
      ],
      "metadata": {
        "id": "1AmZNjd4td9l"
      }
    },
    {
      "cell_type": "code",
      "source": [
        "arr4=np.random.rand(100)\n",
        "arr4"
      ],
      "metadata": {
        "colab": {
          "base_uri": "https://localhost:8080/"
        },
        "id": "od48BWLetj88",
        "outputId": "9f9b1577-2e5a-4c84-c84c-5d003f54b16d"
      },
      "execution_count": null,
      "outputs": [
        {
          "output_type": "execute_result",
          "data": {
            "text/plain": [
              "array([0.82736941, 0.49295135, 0.49599104, 0.18932196, 0.46754957,\n",
              "       0.9033792 , 0.49165579, 0.89171161, 0.13083377, 0.47621792,\n",
              "       0.54330159, 0.06632493, 0.59548459, 0.65972684, 0.72972858,\n",
              "       0.85723034, 0.41385146, 0.72452743, 0.48069941, 0.81195318,\n",
              "       0.6740177 , 0.1766973 , 0.79076111, 0.09836794, 0.49608828,\n",
              "       0.64084887, 0.39677594, 0.81747067, 0.29551175, 0.60806819,\n",
              "       0.05113469, 0.34102914, 0.82245707, 0.70702437, 0.01085113,\n",
              "       0.31067818, 0.71288975, 0.99872431, 0.66016534, 0.34642724,\n",
              "       0.490243  , 0.89401072, 0.82840344, 0.87525249, 0.51013055,\n",
              "       0.30391708, 0.45023678, 0.69128129, 0.27788818, 0.50335481,\n",
              "       0.09044497, 0.25979025, 0.3073229 , 0.04612971, 0.866645  ,\n",
              "       0.56170696, 0.33606342, 0.06382239, 0.57814043, 0.40673865,\n",
              "       0.09492817, 0.94655632, 0.83894756, 0.85879581, 0.87384629,\n",
              "       0.86024943, 0.92743104, 0.3016921 , 0.44759309, 0.37422185,\n",
              "       0.90920222, 0.18136992, 0.17261581, 0.9729026 , 0.04564167,\n",
              "       0.41398613, 0.49220991, 0.28505674, 0.1454945 , 0.17613452,\n",
              "       0.39609887, 0.85447021, 0.10846892, 0.67082362, 0.16379354,\n",
              "       0.43475215, 0.47901264, 0.06237042, 0.26594179, 0.89932012,\n",
              "       0.57584366, 0.05426625, 0.65445415, 0.90055756, 0.44431501,\n",
              "       0.33368891, 0.72119358, 0.56707272, 0.79871003, 0.21075163])"
            ]
          },
          "metadata": {},
          "execution_count": 23
        }
      ]
    },
    {
      "cell_type": "markdown",
      "source": [],
      "metadata": {
        "id": "MGyU2fjMtXOQ"
      }
    },
    {
      "cell_type": "code",
      "source": [
        "#mean"
      ],
      "metadata": {
        "id": "Kwy8qMQVueRU"
      },
      "execution_count": null,
      "outputs": []
    },
    {
      "cell_type": "code",
      "source": [
        "arr5=arr4.mean()\n",
        "arr5"
      ],
      "metadata": {
        "colab": {
          "base_uri": "https://localhost:8080/"
        },
        "id": "mhftn7I3ugT7",
        "outputId": "7932874c-01ca-40a4-bd81-3d15392789c1"
      },
      "execution_count": null,
      "outputs": [
        {
          "output_type": "execute_result",
          "data": {
            "text/plain": [
              "0.5046210339191336"
            ]
          },
          "metadata": {},
          "execution_count": 26
        }
      ]
    },
    {
      "cell_type": "markdown",
      "source": [
        "6. Reshape a 1D NumPy array of 12 random elements into a 2D array with a\n",
        "shape of (3, 4)."
      ],
      "metadata": {
        "id": "E9Yp4N21u5TV"
      }
    },
    {
      "cell_type": "code",
      "source": [
        "arr6=np.random.randint(0,20,12)\n",
        "arr6"
      ],
      "metadata": {
        "colab": {
          "base_uri": "https://localhost:8080/"
        },
        "id": "FFkUvEzQu6iT",
        "outputId": "b03b32c1-2004-4191-c7b2-332bd27fd39f"
      },
      "execution_count": null,
      "outputs": [
        {
          "output_type": "execute_result",
          "data": {
            "text/plain": [
              "array([18, 13, 14,  7,  2,  4, 11,  6,  8,  4, 10, 12])"
            ]
          },
          "metadata": {},
          "execution_count": 29
        }
      ]
    },
    {
      "cell_type": "code",
      "source": [
        "arr7=arr6.reshape(3,4)\n",
        "arr7"
      ],
      "metadata": {
        "colab": {
          "base_uri": "https://localhost:8080/"
        },
        "id": "qwE7slqdvJ8S",
        "outputId": "b07f8241-38f5-443b-bc46-fa926e588b6a"
      },
      "execution_count": null,
      "outputs": [
        {
          "output_type": "execute_result",
          "data": {
            "text/plain": [
              "array([[18, 13, 14,  7],\n",
              "       [ 2,  4, 11,  6],\n",
              "       [ 8,  4, 10, 12]])"
            ]
          },
          "metadata": {},
          "execution_count": 33
        }
      ]
    },
    {
      "cell_type": "code",
      "source": [],
      "metadata": {
        "id": "ESGp-lXqvnmi"
      },
      "execution_count": null,
      "outputs": []
    },
    {
      "cell_type": "markdown",
      "source": [
        "7. Given a NumPy array arr = np.array([1, 2, 3, 4, 5]), square each element in\n",
        "the array using NumPy functions."
      ],
      "metadata": {
        "id": "k-Nw2FLev-ML"
      }
    },
    {
      "cell_type": "code",
      "source": [
        "arr=np.array([1,2,3,4,5])\n",
        "arr"
      ],
      "metadata": {
        "colab": {
          "base_uri": "https://localhost:8080/"
        },
        "id": "A4mvnQdbv_bC",
        "outputId": "0edca4fd-4f3d-46d9-95b5-a8038b8eacef"
      },
      "execution_count": null,
      "outputs": [
        {
          "output_type": "execute_result",
          "data": {
            "text/plain": [
              "array([1, 2, 3, 4, 5])"
            ]
          },
          "metadata": {},
          "execution_count": 34
        }
      ]
    },
    {
      "cell_type": "code",
      "source": [
        "np.square(arr)"
      ],
      "metadata": {
        "colab": {
          "base_uri": "https://localhost:8080/"
        },
        "id": "brOuwnWZwIzy",
        "outputId": "70de1dbf-8c79-4cb1-a9ac-d429da47fe69"
      },
      "execution_count": null,
      "outputs": [
        {
          "output_type": "execute_result",
          "data": {
            "text/plain": [
              "array([ 1,  4,  9, 16, 25])"
            ]
          },
          "metadata": {},
          "execution_count": 36
        }
      ]
    },
    {
      "cell_type": "code",
      "source": [],
      "metadata": {
        "id": "27ihR5WkwX5S"
      },
      "execution_count": null,
      "outputs": []
    },
    {
      "cell_type": "markdown",
      "source": [
        "8. Create a 5x5 identity matrix using NumPy"
      ],
      "metadata": {
        "id": "zpak6FvqwipD"
      }
    },
    {
      "cell_type": "code",
      "source": [
        "arr=np.eye(5,5)\n",
        "arr"
      ],
      "metadata": {
        "colab": {
          "base_uri": "https://localhost:8080/"
        },
        "id": "30NEKhkZwoK2",
        "outputId": "4e7ab8aa-a36f-4ff8-c434-13dd97d35f0a"
      },
      "execution_count": null,
      "outputs": [
        {
          "output_type": "execute_result",
          "data": {
            "text/plain": [
              "array([[1., 0., 0., 0., 0.],\n",
              "       [0., 1., 0., 0., 0.],\n",
              "       [0., 0., 1., 0., 0.],\n",
              "       [0., 0., 0., 1., 0.],\n",
              "       [0., 0., 0., 0., 1.]])"
            ]
          },
          "metadata": {},
          "execution_count": 39
        }
      ]
    },
    {
      "cell_type": "code",
      "source": [],
      "metadata": {
        "id": "T6PjZTcEwtw1"
      },
      "execution_count": null,
      "outputs": []
    },
    {
      "cell_type": "markdown",
      "source": [
        "9. Calculate the dot product of two NumPy arrays, a = np.array([1, 2, 3]) and\n",
        "b = np.array([4, 5, 6])."
      ],
      "metadata": {
        "id": "TSLY_UrDw3Tz"
      }
    },
    {
      "cell_type": "code",
      "source": [
        "a=np.array([1,2,3])\n",
        "a"
      ],
      "metadata": {
        "colab": {
          "base_uri": "https://localhost:8080/"
        },
        "id": "qfQFCPimw4Sa",
        "outputId": "8ab72acc-75d7-44fc-e1c4-44b5008e0c96"
      },
      "execution_count": null,
      "outputs": [
        {
          "output_type": "execute_result",
          "data": {
            "text/plain": [
              "array([1, 2, 3])"
            ]
          },
          "metadata": {},
          "execution_count": 40
        }
      ]
    },
    {
      "cell_type": "code",
      "source": [],
      "metadata": {
        "id": "cGWg4hrqxAoR"
      },
      "execution_count": null,
      "outputs": []
    },
    {
      "cell_type": "code",
      "source": [
        "b=np.array([4,5,6])\n",
        "b\n"
      ],
      "metadata": {
        "colab": {
          "base_uri": "https://localhost:8080/"
        },
        "id": "_EJaukGHxBsE",
        "outputId": "6c5b8d4c-3a63-44ac-ee07-50e62266ef90"
      },
      "execution_count": null,
      "outputs": [
        {
          "output_type": "execute_result",
          "data": {
            "text/plain": [
              "array([4, 5, 6])"
            ]
          },
          "metadata": {},
          "execution_count": 41
        }
      ]
    },
    {
      "cell_type": "code",
      "source": [
        "a.dot(b)"
      ],
      "metadata": {
        "colab": {
          "base_uri": "https://localhost:8080/"
        },
        "id": "QkpxExOfxPSg",
        "outputId": "0b264a4d-a2d8-42c3-da6b-3806db4a9f54"
      },
      "execution_count": null,
      "outputs": [
        {
          "output_type": "execute_result",
          "data": {
            "text/plain": [
              "32"
            ]
          },
          "metadata": {},
          "execution_count": 42
        }
      ]
    },
    {
      "cell_type": "code",
      "source": [],
      "metadata": {
        "id": "jk7KxnmNxYTR"
      },
      "execution_count": null,
      "outputs": []
    },
    {
      "cell_type": "markdown",
      "source": [
        "10.Find the index of the maximum value and the index of the minimum value\n",
        "in a NumPy array."
      ],
      "metadata": {
        "id": "fM69WuWtxegD"
      }
    },
    {
      "cell_type": "code",
      "source": [
        "arr8=np.random.randint(1,101,10)\n",
        "arr8"
      ],
      "metadata": {
        "id": "PVEkjMdaxm1y",
        "colab": {
          "base_uri": "https://localhost:8080/"
        },
        "outputId": "60443de5-7b48-4fe4-ae12-f4181099a877"
      },
      "execution_count": null,
      "outputs": [
        {
          "output_type": "execute_result",
          "data": {
            "text/plain": [
              "array([ 31,  10, 100,  80,  46,   7,  20,  44,  90,  70])"
            ]
          },
          "metadata": {},
          "execution_count": 4
        }
      ]
    },
    {
      "cell_type": "code",
      "source": [
        "arr8.argmax()"
      ],
      "metadata": {
        "colab": {
          "base_uri": "https://localhost:8080/"
        },
        "id": "QyuQOiirixCc",
        "outputId": "c2fc8d4c-7f7c-4bd9-b4bc-a8ec030f262e"
      },
      "execution_count": null,
      "outputs": [
        {
          "output_type": "execute_result",
          "data": {
            "text/plain": [
              "2"
            ]
          },
          "metadata": {},
          "execution_count": 5
        }
      ]
    },
    {
      "cell_type": "code",
      "source": [
        "arr8.argmin()"
      ],
      "metadata": {
        "colab": {
          "base_uri": "https://localhost:8080/"
        },
        "id": "d_MnvSQkjFev",
        "outputId": "0e4c7aba-131f-4d0f-c428-dd602d53e882"
      },
      "execution_count": null,
      "outputs": [
        {
          "output_type": "execute_result",
          "data": {
            "text/plain": [
              "5"
            ]
          },
          "metadata": {},
          "execution_count": 6
        }
      ]
    },
    {
      "cell_type": "code",
      "source": [],
      "metadata": {
        "id": "zrvc63hVjTxm"
      },
      "execution_count": null,
      "outputs": []
    },
    {
      "cell_type": "markdown",
      "source": [
        "11.Concatenate two random NumPy arrays horizontally and vertically"
      ],
      "metadata": {
        "id": "Fd8ZD13akCLm"
      }
    },
    {
      "cell_type": "code",
      "source": [
        "a=np.zeros((4,4))\n",
        "b=np.ones((4,4))\n",
        "c=np.concatenate((a,b))\n",
        "d=np.concatenate((a,b),axis=1)\n",
        "print('vertical concatenation-\\n',c)\n",
        "print('horizontal concatenation-\\n',d)\n"
      ],
      "metadata": {
        "colab": {
          "base_uri": "https://localhost:8080/"
        },
        "id": "tir_5eaikXXv",
        "outputId": "2b8e1bae-5a2a-4933-c075-32a4c1a95fbd"
      },
      "execution_count": null,
      "outputs": [
        {
          "output_type": "stream",
          "name": "stdout",
          "text": [
            "vertical concatenation-\n",
            " [[0. 0. 0. 0.]\n",
            " [0. 0. 0. 0.]\n",
            " [0. 0. 0. 0.]\n",
            " [0. 0. 0. 0.]\n",
            " [1. 1. 1. 1.]\n",
            " [1. 1. 1. 1.]\n",
            " [1. 1. 1. 1.]\n",
            " [1. 1. 1. 1.]]\n",
            "horizontal concatenation-\n",
            " [[0. 0. 0. 0. 1. 1. 1. 1.]\n",
            " [0. 0. 0. 0. 1. 1. 1. 1.]\n",
            " [0. 0. 0. 0. 1. 1. 1. 1.]\n",
            " [0. 0. 0. 0. 1. 1. 1. 1.]]\n"
          ]
        }
      ]
    },
    {
      "cell_type": "code",
      "source": [],
      "metadata": {
        "id": "8PIq_IimlL_m"
      },
      "execution_count": null,
      "outputs": []
    },
    {
      "cell_type": "markdown",
      "source": [
        "12.Given a 2D NumPy array, calculate the sum of each row and each column\n",
        "separately."
      ],
      "metadata": {
        "id": "inQslH75lg_g"
      }
    },
    {
      "cell_type": "code",
      "source": [
        "arr9=np.arange(1,17).reshape(4,4)\n",
        "print(arr9)\n",
        "print('sum of each column is',np.sum(arr9,axis=0))\n",
        "print('sum of each row is',np.sum(arr9,axis=0))"
      ],
      "metadata": {
        "colab": {
          "base_uri": "https://localhost:8080/"
        },
        "id": "9Pj0C-3wlhte",
        "outputId": "aee89989-0457-4b7d-8436-846c9b566f1e"
      },
      "execution_count": null,
      "outputs": [
        {
          "output_type": "stream",
          "name": "stdout",
          "text": [
            "[[ 1  2  3  4]\n",
            " [ 5  6  7  8]\n",
            " [ 9 10 11 12]\n",
            " [13 14 15 16]]\n",
            "sum of each column is [28 32 36 40]\n",
            "sum of each row is [28 32 36 40]\n"
          ]
        }
      ]
    },
    {
      "cell_type": "code",
      "source": [],
      "metadata": {
        "id": "rGsNR7JTl_a3"
      },
      "execution_count": null,
      "outputs": []
    },
    {
      "cell_type": "markdown",
      "source": [],
      "metadata": {
        "id": "RvivSP9RmdUP"
      }
    },
    {
      "cell_type": "markdown",
      "source": [
        "13.Find the common elements between two NumPy arrays."
      ],
      "metadata": {
        "id": "esew4BZZmFv_"
      }
    },
    {
      "cell_type": "code",
      "source": [
        "a=np.array([[4,9],[5,8],[1,7]])\n",
        "b=np.array([[3,9],[5,2],[6,7]])\n",
        "c=np.intersect1d(a,b)\n",
        "print(\"the common elements between a and b are \",c)"
      ],
      "metadata": {
        "colab": {
          "base_uri": "https://localhost:8080/"
        },
        "id": "XFLyKaNJmG1f",
        "outputId": "d4be5c7f-40e6-4f4e-9b15-8e34c6c6e87e"
      },
      "execution_count": null,
      "outputs": [
        {
          "output_type": "stream",
          "name": "stdout",
          "text": [
            "the common elements between a and b are  [5 7 9]\n"
          ]
        }
      ]
    },
    {
      "cell_type": "code",
      "source": [],
      "metadata": {
        "id": "74a8qktmmsGG"
      },
      "execution_count": null,
      "outputs": []
    },
    {
      "cell_type": "markdown",
      "source": [
        "14.Replace all negative values in a NumPy array with zeros"
      ],
      "metadata": {
        "id": "Kyr5aEb0mv_o"
      }
    },
    {
      "cell_type": "code",
      "source": [
        "x=np.array([1,2,3,-4,-5,-6])\n",
        "x[x<0]=0\n",
        "x"
      ],
      "metadata": {
        "colab": {
          "base_uri": "https://localhost:8080/"
        },
        "id": "27-tHfvHmxAP",
        "outputId": "168e941f-9f31-491f-c537-244a71e58b42"
      },
      "execution_count": null,
      "outputs": [
        {
          "output_type": "execute_result",
          "data": {
            "text/plain": [
              "array([1, 2, 3, 0, 0, 0])"
            ]
          },
          "metadata": {},
          "execution_count": 13
        }
      ]
    },
    {
      "cell_type": "code",
      "source": [],
      "metadata": {
        "id": "AfIGCucxnAhG"
      },
      "execution_count": null,
      "outputs": []
    },
    {
      "cell_type": "markdown",
      "source": [
        "15.Create a NumPy array with random integers between 1 and 100 and then\n",
        "sort it in ascending order."
      ],
      "metadata": {
        "id": "R0qcVGJWnCqx"
      }
    },
    {
      "cell_type": "code",
      "source": [
        "arr10=np.random.randint(1,101,100)\n",
        "arr10.sort()\n",
        "arr10"
      ],
      "metadata": {
        "colab": {
          "base_uri": "https://localhost:8080/"
        },
        "id": "2npRarUTnFyB",
        "outputId": "6d9d86d8-8113-4576-ebce-bb5d8d28432f"
      },
      "execution_count": null,
      "outputs": [
        {
          "output_type": "execute_result",
          "data": {
            "text/plain": [
              "array([ 1,  2,  3,  4,  5,  7,  8,  8,  9,  9, 10, 10, 10, 11, 12, 14, 15,\n",
              "       15, 15, 16, 17, 18, 18, 19, 19, 20, 21, 22, 23, 24, 27, 27, 27, 28,\n",
              "       31, 33, 34, 34, 35, 35, 35, 36, 37, 39, 39, 40, 41, 41, 41, 43, 45,\n",
              "       45, 46, 46, 49, 49, 50, 50, 51, 52, 52, 53, 55, 55, 57, 59, 60, 60,\n",
              "       61, 63, 63, 64, 65, 65, 65, 69, 69, 70, 71, 71, 72, 73, 73, 73, 78,\n",
              "       80, 82, 83, 83, 85, 86, 88, 89, 91, 92, 93, 94, 95, 96, 97])"
            ]
          },
          "metadata": {},
          "execution_count": 14
        }
      ]
    },
    {
      "cell_type": "code",
      "source": [],
      "metadata": {
        "id": "pL_Kw0v9nRGu"
      },
      "execution_count": null,
      "outputs": []
    },
    {
      "cell_type": "markdown",
      "source": [
        "16.Calculate the element-wise absolute difference between two NumPy\n",
        "arrays"
      ],
      "metadata": {
        "id": "qCfF6m_3nW9e"
      }
    },
    {
      "cell_type": "code",
      "source": [
        "a=np.array([1,2,3,4,5])\n",
        "b=np.array([6,8,10,12,14])\n",
        "c=np.absolute(a-b)\n",
        "print(\"the element-wise absolute differencebetween the two arrays is\",c)"
      ],
      "metadata": {
        "colab": {
          "base_uri": "https://localhost:8080/"
        },
        "id": "yZqxkLKInX0H",
        "outputId": "ffa4be65-76ba-4173-d016-a8c3a46936d2"
      },
      "execution_count": null,
      "outputs": [
        {
          "output_type": "stream",
          "name": "stdout",
          "text": [
            "the element-wise absolute differencebetween the two arrays is [5 6 7 8 9]\n"
          ]
        }
      ]
    },
    {
      "cell_type": "code",
      "source": [],
      "metadata": {
        "id": "kW-XDDeWn7Sm"
      },
      "execution_count": null,
      "outputs": []
    },
    {
      "cell_type": "markdown",
      "source": [
        "17.Given a 2D NumPy array, extract the first row and the last column"
      ],
      "metadata": {
        "id": "u7SW7yvSn_lC"
      }
    },
    {
      "cell_type": "code",
      "source": [
        "arr=np.array([[1,2,3],[4,5,6],[7,8,9]])\n",
        "firstrow=arr[0]\n",
        "lastcol=arr[:,[-1]]\n",
        "print(\"First row is\\n\",firstrow)\n",
        "print(\"Last column is\\n\",lastcol)"
      ],
      "metadata": {
        "id": "fLmcKSufoAXX",
        "colab": {
          "base_uri": "https://localhost:8080/"
        },
        "outputId": "e8a5bf77-90af-48c9-de87-b4fe8dfcfad2"
      },
      "execution_count": 20,
      "outputs": [
        {
          "output_type": "stream",
          "name": "stdout",
          "text": [
            "First row is\n",
            " [1 2 3]\n",
            "Last column is\n",
            " [[3]\n",
            " [6]\n",
            " [9]]\n"
          ]
        }
      ]
    },
    {
      "cell_type": "code",
      "source": [
        "18.Slice a 1D NumPy array to get every other element"
      ],
      "metadata": {
        "id": "J1-57WNDInqO"
      },
      "execution_count": null,
      "outputs": []
    },
    {
      "cell_type": "code",
      "source": [
        "a=np.array([1,2,3,4,5])\n",
        "x=a[0:len(a)+1]\n",
        "print(x)"
      ],
      "metadata": {
        "colab": {
          "base_uri": "https://localhost:8080/"
        },
        "id": "wSb-klcpJ06K",
        "outputId": "171244a1-f6d1-45d2-8dc2-f8a75f0261ed"
      },
      "execution_count": 21,
      "outputs": [
        {
          "output_type": "stream",
          "name": "stdout",
          "text": [
            "[1 2 3 4 5]\n"
          ]
        }
      ]
    },
    {
      "cell_type": "code",
      "source": [],
      "metadata": {
        "id": "zMk70jJzKG99"
      },
      "execution_count": null,
      "outputs": []
    },
    {
      "cell_type": "markdown",
      "source": [
        "19.Given a 2D NumPy array, extract a subarray consisting of the central 2x2\n",
        "elements"
      ],
      "metadata": {
        "id": "1bHZk64aKvIo"
      }
    },
    {
      "cell_type": "code",
      "source": [
        "arr=np.array([[10,12,14,16,18,20],[22,24,26,28,30,32],[34,36,38,40,42,44],[46,48,50,52,54,56],[58,60,62,64,66,68],[70,72,74,76,78,80]])\n",
        "x=arr[2:4,[2,3]]\n",
        "print('original array is\\n',arr)\n",
        "print('central 2x2elements include\\n',x)"
      ],
      "metadata": {
        "colab": {
          "base_uri": "https://localhost:8080/"
        },
        "id": "b8yX2Dg-KyOn",
        "outputId": "bb38419a-0049-4eef-a57b-52d5926e8886"
      },
      "execution_count": 22,
      "outputs": [
        {
          "output_type": "stream",
          "name": "stdout",
          "text": [
            "original array is\n",
            " [[10 12 14 16 18 20]\n",
            " [22 24 26 28 30 32]\n",
            " [34 36 38 40 42 44]\n",
            " [46 48 50 52 54 56]\n",
            " [58 60 62 64 66 68]\n",
            " [70 72 74 76 78 80]]\n",
            "central 2x2elements include\n",
            " [[38 40]\n",
            " [50 52]]\n"
          ]
        }
      ]
    },
    {
      "cell_type": "code",
      "source": [],
      "metadata": {
        "id": "NfMhNciFLrtF"
      },
      "execution_count": null,
      "outputs": []
    },
    {
      "cell_type": "markdown",
      "source": [
        "20.Reverse a 1D NumPy array using slicing."
      ],
      "metadata": {
        "id": "hLRDID7DMB6Y"
      }
    },
    {
      "cell_type": "markdown",
      "source": [],
      "metadata": {
        "id": "zBvQv4QvNy_t"
      }
    },
    {
      "cell_type": "code",
      "source": [
        "a=np.array([1,2,3,4,5])\n",
        "x=a[::-1]\n",
        "x"
      ],
      "metadata": {
        "colab": {
          "base_uri": "https://localhost:8080/"
        },
        "id": "BIfFhsRBMCz_",
        "outputId": "695bba1a-884a-463f-d04a-6435824aef60"
      },
      "execution_count": 23,
      "outputs": [
        {
          "output_type": "execute_result",
          "data": {
            "text/plain": [
              "array([5, 4, 3, 2, 1])"
            ]
          },
          "metadata": {},
          "execution_count": 23
        }
      ]
    },
    {
      "cell_type": "code",
      "source": [],
      "metadata": {
        "id": "2EAqxnpkMRo1"
      },
      "execution_count": null,
      "outputs": []
    }
  ]
}