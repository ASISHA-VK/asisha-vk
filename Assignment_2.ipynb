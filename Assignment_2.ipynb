{
  "nbformat": 4,
  "nbformat_minor": 0,
  "metadata": {
    "colab": {
      "provenance": []
    },
    "kernelspec": {
      "name": "python3",
      "display_name": "Python 3"
    },
    "language_info": {
      "name": "python"
    }
  },
  "cells": [
    {
      "cell_type": "code",
      "execution_count": null,
      "metadata": {
        "id": "AH5RL4OEviWB"
      },
      "outputs": [],
      "source": []
    },
    {
      "cell_type": "markdown",
      "source": [],
      "metadata": {
        "id": "MiqN9RU84eJH"
      }
    },
    {
      "cell_type": "markdown",
      "source": [
        "1.#Area of rectangle"
      ],
      "metadata": {
        "id": "T1wAnLRxvsH6"
      }
    },
    {
      "cell_type": "code",
      "source": [
        "height=int(input(\"enter the number\"))\n",
        "width=int (input(\"enter the number\"))\n",
        "a=height*width\n",
        "print(a)"
      ],
      "metadata": {
        "colab": {
          "base_uri": "https://localhost:8080/"
        },
        "id": "v3DtTvZcvv4N",
        "outputId": "818a7349-86c2-42e3-9b53-52f89b6f1338"
      },
      "execution_count": null,
      "outputs": [
        {
          "output_type": "stream",
          "name": "stdout",
          "text": [
            "enter the number3\n",
            "enter the number5\n",
            "15\n"
          ]
        }
      ]
    },
    {
      "cell_type": "markdown",
      "source": [
        "2.#sum, difference, product and quotient of two numbers"
      ],
      "metadata": {
        "id": "Nl2QOZ8-wlqz"
      }
    },
    {
      "cell_type": "code",
      "source": [],
      "metadata": {
        "id": "Z8CWS30rwsAs"
      },
      "execution_count": null,
      "outputs": []
    },
    {
      "cell_type": "markdown",
      "source": [
        "Sum of two numbers"
      ],
      "metadata": {
        "id": "Q37Fdz1ywzfM"
      }
    },
    {
      "cell_type": "code",
      "source": [
        "a=int(input(\"enter a number\"))\n",
        "b=int(input(\"enter a number\"))\n",
        "s=a+b\n",
        "print(s)"
      ],
      "metadata": {
        "colab": {
          "base_uri": "https://localhost:8080/"
        },
        "id": "a9l6Tfy2w1sA",
        "outputId": "d16d41f2-61ab-4b93-d723-0d36e88d12e6"
      },
      "execution_count": null,
      "outputs": [
        {
          "output_type": "stream",
          "name": "stdout",
          "text": [
            "enter a number10\n",
            "enter a number2\n",
            "12\n"
          ]
        }
      ]
    },
    {
      "cell_type": "markdown",
      "source": [
        "Product of two numbers"
      ],
      "metadata": {
        "id": "gw-rDfXxxU_y"
      }
    },
    {
      "cell_type": "code",
      "source": [
        "a=int(input(\"enter a number\"))\n",
        "b=int(input(\"enter a number\"))\n",
        "p=a*b\n",
        "print(p)"
      ],
      "metadata": {
        "colab": {
          "base_uri": "https://localhost:8080/"
        },
        "id": "iUp1BpRwxXbg",
        "outputId": "dffeb540-20e0-41f2-c798-e845c7e7ca09"
      },
      "execution_count": null,
      "outputs": [
        {
          "output_type": "stream",
          "name": "stdout",
          "text": [
            "enter a number3\n",
            "enter a number5\n",
            "15\n"
          ]
        }
      ]
    },
    {
      "cell_type": "markdown",
      "source": [
        "Difference of two numbers"
      ],
      "metadata": {
        "id": "8VeWjGDmxrHM"
      }
    },
    {
      "cell_type": "code",
      "source": [
        "a=int(input(\"enter a number\"))\n",
        "b=int(input(\"enter a number\"))\n",
        "p=a-b\n",
        "print(p)"
      ],
      "metadata": {
        "colab": {
          "base_uri": "https://localhost:8080/"
        },
        "id": "b0cRY7C2zeky",
        "outputId": "e77895df-dcc1-42bc-b26e-f06b4ab66bea"
      },
      "execution_count": null,
      "outputs": [
        {
          "output_type": "stream",
          "name": "stdout",
          "text": [
            "enter a number7\n",
            "enter a number3\n",
            "4\n"
          ]
        }
      ]
    },
    {
      "cell_type": "markdown",
      "source": [
        "Quotient of 2 numbers"
      ],
      "metadata": {
        "id": "O109YnLLz0EG"
      }
    },
    {
      "cell_type": "code",
      "source": [
        "a=int(input(\"enter a number\"))\n",
        "b=int(input(\"enter a number\"))\n",
        "Q=a%b\n",
        "print(Q)"
      ],
      "metadata": {
        "colab": {
          "base_uri": "https://localhost:8080/"
        },
        "id": "rfmrJ3DDz55v",
        "outputId": "9eeafcb7-364f-4d72-9218-e98494f6baaa"
      },
      "execution_count": null,
      "outputs": [
        {
          "output_type": "stream",
          "name": "stdout",
          "text": [
            "enter a number10\n",
            "enter a number2\n",
            "0\n"
          ]
        }
      ]
    },
    {
      "cell_type": "markdown",
      "source": [
        "3.#Convert temperature from Fahrenheit to celsius and vice versa"
      ],
      "metadata": {
        "id": "wiyeayMK4j3j"
      }
    },
    {
      "cell_type": "code",
      "source": [
        "\n",
        "\n",
        "\n",
        "\n",
        "fer=float(input(\"enter the number\"))\n",
        "cel=(fer-32)*5/9\n",
        "print(cel)"
      ],
      "metadata": {
        "colab": {
          "base_uri": "https://localhost:8080/"
        },
        "id": "X9S0_Tjw4tDM",
        "outputId": "07f55c00-beea-4615-827e-b69137c17d57"
      },
      "execution_count": null,
      "outputs": [
        {
          "output_type": "stream",
          "name": "stdout",
          "text": [
            "enter the number100\n",
            "37.77777777777778\n"
          ]
        }
      ]
    },
    {
      "cell_type": "code",
      "source": [
        "fer=float(input(\"enter the number\"))\n",
        "fer=(cel*9/5)+32\n",
        "print(fer)"
      ],
      "metadata": {
        "colab": {
          "base_uri": "https://localhost:8080/"
        },
        "id": "mINAhNzM5Yiq",
        "outputId": "13bd67da-6141-45ea-e6e9-7e9c1d7dc8fb"
      },
      "execution_count": null,
      "outputs": [
        {
          "output_type": "stream",
          "name": "stdout",
          "text": [
            "enter the number67\n",
            "100.0\n"
          ]
        }
      ]
    },
    {
      "cell_type": "markdown",
      "source": [
        "4.#Check a given number is positive, negative or zero"
      ],
      "metadata": {
        "id": "y4s2QaOw54n7"
      }
    },
    {
      "cell_type": "code",
      "source": [
        "number=int(input(\"enter the number\"))\n",
        "if(number>0) :\n",
        " print(\"number is positive\")\n",
        "elif(number<0) :\n",
        " print(\"number is negative\")\n",
        "else:\n",
        " print(\"number is zero\")"
      ],
      "metadata": {
        "colab": {
          "base_uri": "https://localhost:8080/"
        },
        "id": "fLQX4drh7F0g",
        "outputId": "ebb1aaed-fc9f-46af-f211-920e8be6f17b"
      },
      "execution_count": null,
      "outputs": [
        {
          "output_type": "stream",
          "name": "stdout",
          "text": [
            "enter the number10\n",
            "number is positive\n"
          ]
        }
      ]
    },
    {
      "cell_type": "markdown",
      "source": [
        "5.#Determine whether a year is a leap year"
      ],
      "metadata": {
        "id": "ctZuq_ju7bOK"
      }
    },
    {
      "cell_type": "code",
      "source": [
        "\n",
        "\n",
        "y=int(input(\"enter the year\"))\n",
        "if(y/4==0) :\n",
        " print(\"it is a leap year\")\n",
        "elif(y/400==0) :\n",
        " print(\"it is  a leap year\")\n",
        "else:\n",
        " print(\"it is not a leap year\")"
      ],
      "metadata": {
        "colab": {
          "base_uri": "https://localhost:8080/"
        },
        "id": "tOXHoWns7d_y",
        "outputId": "f1bce1e2-32e7-4675-fcf1-ac29b36603eb"
      },
      "execution_count": null,
      "outputs": [
        {
          "output_type": "stream",
          "name": "stdout",
          "text": [
            "enter the year2003\n",
            "it is not a leap year\n"
          ]
        }
      ]
    },
    {
      "cell_type": "markdown",
      "source": [
        "6.#grade according to mark"
      ],
      "metadata": {
        "id": "mI1qNwVa8tyD"
      }
    },
    {
      "cell_type": "code",
      "source": [
        "mark=float(input(\"enter the mark\"))\n",
        "if(mark>=90) :\n",
        " print(\"A\")\n",
        "elif(mark>=80) :\n",
        " print(\"B\")\n",
        "elif(mark>=70) :\n",
        " print(\"C\")\n",
        "elif(mark>=60) :\n",
        " print(\"D\")\n",
        "elif(mark>=0) :\n",
        " print(\"F\")\n",
        "else:\n",
        " print(invalid)"
      ],
      "metadata": {
        "colab": {
          "base_uri": "https://localhost:8080/"
        },
        "id": "GJiKFJ4o8yqf",
        "outputId": "5f788316-4009-48b5-bc83-afdbdddc9ec3"
      },
      "execution_count": null,
      "outputs": [
        {
          "output_type": "stream",
          "name": "stdout",
          "text": [
            "enter the mark64\n",
            "D\n"
          ]
        }
      ]
    },
    {
      "cell_type": "markdown",
      "source": [
        "7.#print numbers from 10-1"
      ],
      "metadata": {
        "id": "UnN9-3x_99qH"
      }
    },
    {
      "cell_type": "code",
      "source": [
        "for n in range(10,0,-1):\n",
        " print(n)"
      ],
      "metadata": {
        "colab": {
          "base_uri": "https://localhost:8080/"
        },
        "id": "GqSpF_4r-CNW",
        "outputId": "77055c4c-77bc-4c49-c3bb-ff32613d4e7f"
      },
      "execution_count": null,
      "outputs": [
        {
          "output_type": "stream",
          "name": "stdout",
          "text": [
            "10\n",
            "9\n",
            "8\n",
            "7\n",
            "6\n",
            "5\n",
            "4\n",
            "3\n",
            "2\n",
            "1\n"
          ]
        }
      ]
    },
    {
      "cell_type": "markdown",
      "source": [
        "8.#print all even numbers from 0-20"
      ],
      "metadata": {
        "id": "RXJklbu9-ddj"
      }
    },
    {
      "cell_type": "code",
      "source": [
        "for n in range(2,22,2):\n",
        " print(n)"
      ],
      "metadata": {
        "colab": {
          "base_uri": "https://localhost:8080/"
        },
        "id": "goZwSHHV-h5U",
        "outputId": "7af30017-90a9-436b-ecfe-f62925aaaced"
      },
      "execution_count": null,
      "outputs": [
        {
          "output_type": "stream",
          "name": "stdout",
          "text": [
            "2\n",
            "4\n",
            "6\n",
            "8\n",
            "10\n",
            "12\n",
            "14\n",
            "16\n",
            "18\n",
            "20\n"
          ]
        }
      ]
    },
    {
      "cell_type": "markdown",
      "source": [
        "9.#print multiplication table of a given number"
      ],
      "metadata": {
        "id": "V2esOOd4-6P_"
      }
    },
    {
      "cell_type": "code",
      "source": [
        "\n",
        "\n",
        "i=int(input(\"enter the number\"))\n",
        "for n in range(1,11) :\n",
        " print(n,'x',i,'=',n*i)"
      ],
      "metadata": {
        "colab": {
          "base_uri": "https://localhost:8080/"
        },
        "id": "MEapKiu2_IzS",
        "outputId": "d8b68af1-9f1f-4765-96d6-606ba5374932"
      },
      "execution_count": null,
      "outputs": [
        {
          "output_type": "stream",
          "name": "stdout",
          "text": [
            "enter the number3\n",
            "1 x 3 = 3\n",
            "2 x 3 = 6\n",
            "3 x 3 = 9\n",
            "4 x 3 = 12\n",
            "5 x 3 = 15\n",
            "6 x 3 = 18\n",
            "7 x 3 = 21\n",
            "8 x 3 = 24\n",
            "9 x 3 = 27\n",
            "10 x 3 = 30\n"
          ]
        }
      ]
    },
    {
      "cell_type": "markdown",
      "source": [],
      "metadata": {
        "id": "5eQ_jK5P8KKo"
      }
    }
  ]
}