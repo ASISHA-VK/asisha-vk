{
  "nbformat": 4,
  "nbformat_minor": 0,
  "metadata": {
    "colab": {
      "provenance": []
    },
    "kernelspec": {
      "name": "python3",
      "display_name": "Python 3"
    },
    "language_info": {
      "name": "python"
    }
  },
  "cells": [
    {
      "cell_type": "code",
      "execution_count": null,
      "metadata": {
        "id": "7bUN6ZmzkF5i"
      },
      "outputs": [],
      "source": []
    },
    {
      "cell_type": "markdown",
      "source": [],
      "metadata": {
        "id": "8cCE8rqaYMuw"
      }
    },
    {
      "cell_type": "markdown",
      "source": [],
      "metadata": {
        "id": "YMDDIjaGWwGI"
      }
    },
    {
      "cell_type": "markdown",
      "source": [
        "1.#sum of two numbers"
      ],
      "metadata": {
        "id": "Cct9j4y1kNzR"
      }
    },
    {
      "cell_type": "code",
      "source": [
        "a=int(input(\"enter a number\") )\n",
        "b=int(input(\"enter a number\"))\n",
        "s=a+b\n",
        "print(s)"
      ],
      "metadata": {
        "colab": {
          "base_uri": "https://localhost:8080/"
        },
        "id": "SHVr1lq7kRzN",
        "outputId": "43bc63ca-30c8-4352-9b33-487e4aa9c0e2"
      },
      "execution_count": null,
      "outputs": [
        {
          "output_type": "stream",
          "name": "stdout",
          "text": [
            "enter a number10\n",
            "enter a number15\n",
            "25\n"
          ]
        }
      ]
    },
    {
      "cell_type": "markdown",
      "source": [
        "2.#product of two numbers"
      ],
      "metadata": {
        "id": "sfdmz4dKksj4"
      }
    },
    {
      "cell_type": "code",
      "source": [
        "a=int(input(\"enter a number\"))\n",
        "b=int(input(\"enter a number\"))\n",
        "Q=a*b\n",
        "print(Q)"
      ],
      "metadata": {
        "colab": {
          "base_uri": "https://localhost:8080/"
        },
        "id": "iUE735lwkvnB",
        "outputId": "2070a21d-84ca-48f1-8eb8-4cff1768c511"
      },
      "execution_count": null,
      "outputs": [
        {
          "output_type": "stream",
          "name": "stdout",
          "text": [
            "enter a number4\n",
            "enter a number5\n",
            "20\n"
          ]
        }
      ]
    },
    {
      "cell_type": "markdown",
      "source": [
        "3.#quotient and reminder of 2 numbers"
      ],
      "metadata": {
        "id": "tROsjHemWzeu"
      }
    },
    {
      "cell_type": "code",
      "source": [
        "a=int(input(\"enter a number\"))\n",
        "b=int(input(\"enter a number\"))\n",
        "r=a/b\n",
        "q=a%b\n",
        "print(r)\n",
        "print(q)"
      ],
      "metadata": {
        "colab": {
          "base_uri": "https://localhost:8080/"
        },
        "id": "9ccsAworW894",
        "outputId": "d4bb67bf-3be4-43ec-e1b3-0703522292ea"
      },
      "execution_count": null,
      "outputs": [
        {
          "output_type": "stream",
          "name": "stdout",
          "text": [
            "enter a number10\n",
            "enter a number2\n",
            "5.0\n",
            "0\n"
          ]
        }
      ]
    },
    {
      "cell_type": "markdown",
      "source": [
        "4.#length of a string"
      ],
      "metadata": {
        "id": "AzwgGzZ7YPCG"
      }
    },
    {
      "cell_type": "code",
      "source": [
        "a=input(\"enter a string\")\n",
        "len(a)"
      ],
      "metadata": {
        "colab": {
          "base_uri": "https://localhost:8080/"
        },
        "id": "iAb6NjDlYgUm",
        "outputId": "7a83920a-d41c-4f93-fcdb-9e51ea03245a"
      },
      "execution_count": null,
      "outputs": [
        {
          "name": "stdout",
          "output_type": "stream",
          "text": [
            "enter a stringrose\n"
          ]
        },
        {
          "output_type": "execute_result",
          "data": {
            "text/plain": [
              "4"
            ]
          },
          "metadata": {},
          "execution_count": 5
        }
      ]
    },
    {
      "cell_type": "markdown",
      "source": [
        "5#number of occurences of a character in a string"
      ],
      "metadata": {
        "id": "CQyYd_1uZTRu"
      }
    },
    {
      "cell_type": "code",
      "source": [
        "a=input(\"enter a string\")\n",
        "count=a.count('u')\n",
        "print(count)"
      ],
      "metadata": {
        "colab": {
          "base_uri": "https://localhost:8080/"
        },
        "id": "7Qp4AHRlZgDI",
        "outputId": "c5a0b9d3-3087-4f4c-a82c-88c04e7a87a2"
      },
      "execution_count": null,
      "outputs": [
        {
          "output_type": "stream",
          "name": "stdout",
          "text": [
            "enter a stringhouse\n",
            "1\n"
          ]
        }
      ]
    },
    {
      "cell_type": "markdown",
      "source": [
        "6.#convert a string to all upprcase"
      ],
      "metadata": {
        "id": "GUAeOrflaRxH"
      }
    },
    {
      "cell_type": "code",
      "source": [
        "s=input(\"enter a sring\")\n",
        "r=s.upper()\n",
        "print(r)"
      ],
      "metadata": {
        "id": "Ymgk3azLabZg",
        "colab": {
          "base_uri": "https://localhost:8080/"
        },
        "outputId": "9a26a2c7-390d-49dd-dbad-880547ef7464"
      },
      "execution_count": null,
      "outputs": [
        {
          "output_type": "stream",
          "name": "stdout",
          "text": [
            "enter a sringfgfgfgyugyt\n",
            "FGFGFGYUGYT\n"
          ]
        }
      ]
    },
    {
      "cell_type": "markdown",
      "source": [
        "7.#convert string into all lowercase"
      ],
      "metadata": {
        "id": "ByjqGt2Qp-5b"
      }
    },
    {
      "cell_type": "code",
      "source": [
        "f=s.lower()\n",
        "print(f)"
      ],
      "metadata": {
        "colab": {
          "base_uri": "https://localhost:8080/"
        },
        "id": "gnEKegT2qGSk",
        "outputId": "f47ad1ea-25b4-4a05-d636-1990a463be44"
      },
      "execution_count": null,
      "outputs": [
        {
          "output_type": "stream",
          "name": "stdout",
          "text": [
            "fgfgfgyugyt\n"
          ]
        }
      ]
    },
    {
      "cell_type": "markdown",
      "source": [],
      "metadata": {
        "id": "Z4916bMdlEeE"
      }
    }
  ]
}